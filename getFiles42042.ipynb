{
 "cells": [
  {
   "cell_type": "code",
   "execution_count": 1,
   "metadata": {
    "ExecuteTime": {
     "end_time": "2020-01-05T03:25:06.967583Z",
     "start_time": "2020-01-05T03:25:04.724127Z"
    }
   },
   "outputs": [
    {
     "name": "stdout",
     "output_type": "stream",
     "text": [
      "/Users/michaelhaas/unophysics.cred\n"
     ]
    }
   ],
   "source": [
    "import unophysics as uno"
   ]
  },
  {
   "cell_type": "code",
   "execution_count": 2,
   "metadata": {
    "ExecuteTime": {
     "end_time": "2020-01-05T03:25:10.718272Z",
     "start_time": "2020-01-05T03:25:06.970781Z"
    }
   },
   "outputs": [
    {
     "name": "stdout",
     "output_type": "stream",
     "text": [
      "{'_id': 'Buoy13_AllDisks.mat_42042', 'type': 1, 'filename': '7175E9EC.130', 'startRecord': 3387, 'duration_records': 7344, 'duration_seconds': 9.5473664, 'numclicks': 4, 'timestamp': 736870.4468172877, 'Buoy': '13', 'Disk': '0'}\n",
      "2017-06-25 04:26:36.827500\n",
      "[{'_id': '7175E9EC.130', 'datetime': datetime.datetime(2017, 6, 25, 4, 26, 36, 827000), 'buoy': '130'}, {'_id': '7175E9ED.130', 'datetime': datetime.datetime(2017, 6, 25, 4, 26, 58, 159000), 'buoy': '130'}, {'_id': '7175E9EE.130', 'datetime': datetime.datetime(2017, 6, 25, 4, 27, 19, 491000), 'buoy': '130'}, {'_id': '7175E9EF.130', 'datetime': datetime.datetime(2017, 6, 25, 4, 27, 40, 822000), 'buoy': '130'}, {'_id': '7175E9F0.130', 'datetime': datetime.datetime(2017, 6, 25, 4, 28, 2, 154000), 'buoy': '130'}, {'_id': '7175E9F1.130', 'datetime': datetime.datetime(2017, 6, 25, 4, 28, 23, 486000), 'buoy': '130'}, {'_id': '7175E9F2.130', 'datetime': datetime.datetime(2017, 6, 25, 4, 28, 44, 818000), 'buoy': '130'}, {'_id': '7175E9F3.130', 'datetime': datetime.datetime(2017, 6, 25, 4, 29, 6, 150000), 'buoy': '130'}, {'_id': '7175E9F4.130', 'datetime': datetime.datetime(2017, 6, 25, 4, 29, 27, 481000), 'buoy': '130'}, {'_id': '7175E9F5.130', 'datetime': datetime.datetime(2017, 6, 25, 4, 29, 48, 813000), 'buoy': '130'}, {'_id': '7175E9F6.130', 'datetime': datetime.datetime(2017, 6, 25, 4, 30, 10, 145000), 'buoy': '130'}, {'_id': '7175E9F7.130', 'datetime': datetime.datetime(2017, 6, 25, 4, 30, 31, 477000), 'buoy': '130'}, {'_id': '7175E9F8.130', 'datetime': datetime.datetime(2017, 6, 25, 4, 30, 52, 809000), 'buoy': '130'}, {'_id': '7175E9F9.130', 'datetime': datetime.datetime(2017, 6, 25, 4, 31, 14, 140000), 'buoy': '130'}, {'_id': '7175E9FA.130', 'datetime': datetime.datetime(2017, 6, 25, 4, 31, 35, 472000), 'buoy': '130'}]\n"
     ]
    }
   ],
   "source": [
    "rec = uno.ladc.find(skip=42042)\n",
    "print(rec)\n",
    "fn = uno.ladc.get(rec['filename'], outDir='data')\n",
    "e = uno.ladc.EARS(fn)\n",
    "d = e.time_0\n",
    "print(d)\n",
    "files = uno.ladc.find_by_datetime(d, buoys=[rec['Buoy'] + rec['Disk']])\n",
    "print(files)"
   ]
  },
  {
   "cell_type": "code",
   "execution_count": 5,
   "metadata": {
    "ExecuteTime": {
     "end_time": "2020-01-05T04:00:32.399537Z",
     "start_time": "2020-01-05T04:00:20.252694Z"
    }
   },
   "outputs": [
    {
     "name": "stdout",
     "output_type": "stream",
     "text": [
      "data/7175E9EC.130\n",
      "data/7175E9ED.130\n",
      "data/7175E9EE.130\n",
      "data/7175E9EF.130\n",
      "data/7175E9F0.130\n",
      "data/7175E9F1.130\n",
      "data/7175E9F2.130\n",
      "data/7175E9F3.130\n",
      "data/7175E9F4.130\n",
      "data/7175E9F5.130\n",
      "data/7175E9F6.130\n",
      "data/7175E9F7.130\n",
      "data/7175E9F8.130\n",
      "data/7175E9F9.130\n",
      "data/7175E9FA.130\n"
     ]
    }
   ],
   "source": [
    "for f in files:\n",
    "    print(uno.ladc.get(f['_id'], outDir='data'))"
   ]
  }
 ],
 "metadata": {
  "kernelspec": {
   "display_name": "Python 3",
   "language": "python",
   "name": "python3"
  },
  "language_info": {
   "codemirror_mode": {
    "name": "ipython",
    "version": 3
   },
   "file_extension": ".py",
   "mimetype": "text/x-python",
   "name": "python",
   "nbconvert_exporter": "python",
   "pygments_lexer": "ipython3",
   "version": "3.7.0"
  },
  "varInspector": {
   "cols": {
    "lenName": 16,
    "lenType": 16,
    "lenVar": 40
   },
   "kernels_config": {
    "python": {
     "delete_cmd_postfix": "",
     "delete_cmd_prefix": "del ",
     "library": "var_list.py",
     "varRefreshCmd": "print(var_dic_list())"
    },
    "r": {
     "delete_cmd_postfix": ") ",
     "delete_cmd_prefix": "rm(",
     "library": "var_list.r",
     "varRefreshCmd": "cat(var_dic_list()) "
    }
   },
   "types_to_exclude": [
    "module",
    "function",
    "builtin_function_or_method",
    "instance",
    "_Feature"
   ],
   "window_display": false
  }
 },
 "nbformat": 4,
 "nbformat_minor": 2
}
